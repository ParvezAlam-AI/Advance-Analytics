{
  "nbformat": 4,
  "nbformat_minor": 0,
  "metadata": {
    "colab": {
      "provenance": [],
      "authorship_tag": "ABX9TyNWJ0o4B1T2WW0tmZiU+ZXZ",
      "include_colab_link": true
    },
    "kernelspec": {
      "name": "python3",
      "display_name": "Python 3"
    },
    "language_info": {
      "name": "python"
    }
  },
  "cells": [
    {
      "cell_type": "markdown",
      "metadata": {
        "id": "view-in-github",
        "colab_type": "text"
      },
      "source": [
        "<a href=\"https://colab.research.google.com/github/ParvezAlam-AI/Advance-Analytics/blob/main/Time_Serires.ipynb\" target=\"_parent\"><img src=\"https://colab.research.google.com/assets/colab-badge.svg\" alt=\"Open In Colab\"/></a>"
      ]
    },
    {
      "cell_type": "markdown",
      "source": [
        "# Dates and Times in Python\n"
      ],
      "metadata": {
        "id": "ymoy2GFj3Sjp"
      }
    },
    {
      "cell_type": "markdown",
      "source": [
        "## Native python dates and times: datetime and dateutil"
      ],
      "metadata": {
        "id": "emo1yxhD3VXN"
      }
    },
    {
      "cell_type": "code",
      "source": [
        "from datetime import datetime"
      ],
      "metadata": {
        "id": "_Q_oVFsI3eMZ"
      },
      "execution_count": 1,
      "outputs": []
    },
    {
      "cell_type": "code",
      "source": [
        "datetime(year=2024, month=8, day=2)"
      ],
      "metadata": {
        "colab": {
          "base_uri": "https://localhost:8080/"
        },
        "id": "vleU2uzY3kpj",
        "outputId": "a8eab3cf-67cc-4bba-bbd9-316062851828"
      },
      "execution_count": 2,
      "outputs": [
        {
          "output_type": "execute_result",
          "data": {
            "text/plain": [
              "datetime.datetime(2024, 8, 2, 0, 0)"
            ]
          },
          "metadata": {},
          "execution_count": 2
        }
      ]
    },
    {
      "cell_type": "code",
      "source": [
        "# dateutil examples. parse date from a variety of string formats\n",
        "from dateutil import parser\n",
        "date = parser.parse(\"2nd of Sep, 2024\")\n",
        "date"
      ],
      "metadata": {
        "colab": {
          "base_uri": "https://localhost:8080/"
        },
        "id": "N5EyAcn735_A",
        "outputId": "9d0eba56-7a6b-4446-b0cb-a2933714fec9"
      },
      "execution_count": 3,
      "outputs": [
        {
          "output_type": "execute_result",
          "data": {
            "text/plain": [
              "datetime.datetime(2024, 9, 2, 0, 0)"
            ]
          },
          "metadata": {},
          "execution_count": 3
        }
      ]
    },
    {
      "cell_type": "code",
      "source": [
        "date.strftime('%A')"
      ],
      "metadata": {
        "colab": {
          "base_uri": "https://localhost:8080/",
          "height": 35
        },
        "id": "B6baTDHw4MO3",
        "outputId": "bc761207-fb12-4395-d76c-23429c82cd8e"
      },
      "execution_count": 14,
      "outputs": [
        {
          "output_type": "execute_result",
          "data": {
            "text/plain": [
              "'Monday'"
            ],
            "application/vnd.google.colaboratory.intrinsic+json": {
              "type": "string"
            }
          },
          "metadata": {},
          "execution_count": 14
        }
      ]
    },
    {
      "cell_type": "markdown",
      "source": [
        "## Typed arrays of times: NumPy's datetime64\n",
        "\n",
        "\n",
        "NumPy's `datetime64` dtype encodes dates as 64-bit integers, and thus allows arrays of dates to be represented compactly and operated on in an efficient manner.\n",
        "The `datetime64` requires a specific input format:"
      ],
      "metadata": {
        "id": "eynTqzim41zu"
      }
    },
    {
      "cell_type": "code",
      "source": [
        "import numpy as np\n",
        "date = np.array('2024-09-02',dtype=np.datetime64)\n",
        "date"
      ],
      "metadata": {
        "colab": {
          "base_uri": "https://localhost:8080/"
        },
        "id": "8OyZCrfq4T0h",
        "outputId": "840de091-b386-4c67-b9e3-fc87cc3ccfa5"
      },
      "execution_count": 15,
      "outputs": [
        {
          "output_type": "execute_result",
          "data": {
            "text/plain": [
              "array('2024-09-02', dtype='datetime64[D]')"
            ]
          },
          "metadata": {},
          "execution_count": 15
        }
      ]
    },
    {
      "cell_type": "markdown",
      "source": [
        "Once we have dates in this form, we can quickly do vectorized operations on it:"
      ],
      "metadata": {
        "id": "00wwZO7I5P-H"
      }
    },
    {
      "cell_type": "code",
      "source": [
        "date + np.arange(21)"
      ],
      "metadata": {
        "colab": {
          "base_uri": "https://localhost:8080/"
        },
        "id": "vr8lJ1C_5FIJ",
        "outputId": "10159604-8356-4de6-b03c-62b08ecf8f3f"
      },
      "execution_count": 21,
      "outputs": [
        {
          "output_type": "execute_result",
          "data": {
            "text/plain": [
              "array(['2024-09-02', '2024-09-03', '2024-09-04', '2024-09-05',\n",
              "       '2024-09-06', '2024-09-07', '2024-09-08', '2024-09-09',\n",
              "       '2024-09-10', '2024-09-11', '2024-09-12', '2024-09-13',\n",
              "       '2024-09-14', '2024-09-15', '2024-09-16', '2024-09-17',\n",
              "       '2024-09-18', '2024-09-19', '2024-09-20', '2024-09-21',\n",
              "       '2024-09-22'], dtype='datetime64[D]')"
            ]
          },
          "metadata": {},
          "execution_count": 21
        }
      ]
    },
    {
      "cell_type": "code",
      "source": [
        "np.datetime64('2024-09-02')\n",
        "#day based time"
      ],
      "metadata": {
        "colab": {
          "base_uri": "https://localhost:8080/"
        },
        "id": "hSVceZTf5XGw",
        "outputId": "93d2b8bf-98e9-440c-e823-3bd60f60202d"
      },
      "execution_count": 22,
      "outputs": [
        {
          "output_type": "execute_result",
          "data": {
            "text/plain": [
              "numpy.datetime64('2024-09-02')"
            ]
          },
          "metadata": {},
          "execution_count": 22
        }
      ]
    },
    {
      "cell_type": "code",
      "source": [
        "np.datetime64('2024-09-02 12:00')\n",
        "# minute based time"
      ],
      "metadata": {
        "colab": {
          "base_uri": "https://localhost:8080/"
        },
        "id": "vZRakvqL7iQA",
        "outputId": "a30b1e6e-9a05-4dbd-87af-860cfe9354bf"
      },
      "execution_count": 24,
      "outputs": [
        {
          "output_type": "execute_result",
          "data": {
            "text/plain": [
              "numpy.datetime64('2024-09-02T12:00')"
            ]
          },
          "metadata": {},
          "execution_count": 24
        }
      ]
    },
    {
      "cell_type": "code",
      "source": [
        "np.datetime64('2024-09-02 12:59:59.50','ns')"
      ],
      "metadata": {
        "colab": {
          "base_uri": "https://localhost:8080/"
        },
        "id": "iBqhDXMz71we",
        "outputId": "49b7ed23-aa42-4b5e-8249-9feaf34c169c"
      },
      "execution_count": 25,
      "outputs": [
        {
          "output_type": "execute_result",
          "data": {
            "text/plain": [
              "numpy.datetime64('2024-09-02T12:59:59.500000000')"
            ]
          },
          "metadata": {},
          "execution_count": 25
        }
      ]
    },
    {
      "cell_type": "code",
      "source": [],
      "metadata": {
        "colab": {
          "base_uri": "https://localhost:8080/"
        },
        "id": "r9gJlOvR8GkX",
        "outputId": "b16151a1-aaab-4079-cbe6-005ab74d68c8"
      },
      "execution_count": 26,
      "outputs": [
        {
          "output_type": "stream",
          "name": "stdout",
          "text": [
            "2024-09-02\n"
          ]
        }
      ]
    },
    {
      "cell_type": "markdown",
      "source": [
        "## Date and times in pandas\n"
      ],
      "metadata": {
        "id": "j2vfYBwX8rq6"
      }
    },
    {
      "cell_type": "code",
      "source": [
        "import pandas as pd\n",
        "date = pd.to_datetime(\"2nd of sep, 2024\")\n",
        "date\n",
        "# we converted string date in timestamp"
      ],
      "metadata": {
        "colab": {
          "base_uri": "https://localhost:8080/"
        },
        "id": "wD8o9v2V8Ryf",
        "outputId": "6d03b246-fd34-4453-b7a5-4291104e8fa2"
      },
      "execution_count": 27,
      "outputs": [
        {
          "output_type": "execute_result",
          "data": {
            "text/plain": [
              "Timestamp('2024-09-02 00:00:00')"
            ]
          },
          "metadata": {},
          "execution_count": 27
        }
      ]
    },
    {
      "cell_type": "code",
      "source": [
        "date.strftime('%A')"
      ],
      "metadata": {
        "colab": {
          "base_uri": "https://localhost:8080/",
          "height": 35
        },
        "id": "R9nD5xEK83Pn",
        "outputId": "726f9a6a-f478-4607-9147-c9e13cbe3cc8"
      },
      "execution_count": 29,
      "outputs": [
        {
          "output_type": "execute_result",
          "data": {
            "text/plain": [
              "'Monday'"
            ],
            "application/vnd.google.colaboratory.intrinsic+json": {
              "type": "string"
            }
          },
          "metadata": {},
          "execution_count": 29
        }
      ]
    },
    {
      "cell_type": "code",
      "source": [
        "date + pd.to_timedelta(np.arange(12),'D')"
      ],
      "metadata": {
        "colab": {
          "base_uri": "https://localhost:8080/"
        },
        "id": "kdMAIOUN89en",
        "outputId": "e576d833-cfb1-48ae-99eb-4290284a9bd8"
      },
      "execution_count": 31,
      "outputs": [
        {
          "output_type": "execute_result",
          "data": {
            "text/plain": [
              "DatetimeIndex(['2024-09-02', '2024-09-03', '2024-09-04', '2024-09-05',\n",
              "               '2024-09-06', '2024-09-07', '2024-09-08', '2024-09-09',\n",
              "               '2024-09-10', '2024-09-11', '2024-09-12', '2024-09-13'],\n",
              "              dtype='datetime64[ns]', freq=None)"
            ]
          },
          "metadata": {},
          "execution_count": 31
        }
      ]
    },
    {
      "cell_type": "markdown",
      "source": [
        "# Pandas time series: Indexing by time"
      ],
      "metadata": {
        "id": "_nZxNYYD_3IL"
      }
    },
    {
      "cell_type": "code",
      "source": [
        "index = pd.DatetimeIndex(['2020-07-04', '2020-08-04',\n",
        "                          '2021-07-04', '2021-08-04'])\n",
        "data = pd.Series([0,1,2,3],index=index)\n",
        "data"
      ],
      "metadata": {
        "colab": {
          "base_uri": "https://localhost:8080/",
          "height": 210
        },
        "id": "_EtVq3jB9ijE",
        "outputId": "eb11fe5d-6f8c-4fc3-b609-758c13795b34"
      },
      "execution_count": 38,
      "outputs": [
        {
          "output_type": "execute_result",
          "data": {
            "text/plain": [
              "2020-07-04    0\n",
              "2020-08-04    1\n",
              "2021-07-04    2\n",
              "2021-08-04    3\n",
              "dtype: int64"
            ],
            "text/html": [
              "<div>\n",
              "<style scoped>\n",
              "    .dataframe tbody tr th:only-of-type {\n",
              "        vertical-align: middle;\n",
              "    }\n",
              "\n",
              "    .dataframe tbody tr th {\n",
              "        vertical-align: top;\n",
              "    }\n",
              "\n",
              "    .dataframe thead th {\n",
              "        text-align: right;\n",
              "    }\n",
              "</style>\n",
              "<table border=\"1\" class=\"dataframe\">\n",
              "  <thead>\n",
              "    <tr style=\"text-align: right;\">\n",
              "      <th></th>\n",
              "      <th>0</th>\n",
              "    </tr>\n",
              "  </thead>\n",
              "  <tbody>\n",
              "    <tr>\n",
              "      <th>2020-07-04</th>\n",
              "      <td>0</td>\n",
              "    </tr>\n",
              "    <tr>\n",
              "      <th>2020-08-04</th>\n",
              "      <td>1</td>\n",
              "    </tr>\n",
              "    <tr>\n",
              "      <th>2021-07-04</th>\n",
              "      <td>2</td>\n",
              "    </tr>\n",
              "    <tr>\n",
              "      <th>2021-08-04</th>\n",
              "      <td>3</td>\n",
              "    </tr>\n",
              "  </tbody>\n",
              "</table>\n",
              "</div><br><label><b>dtype:</b> int64</label>"
            ]
          },
          "metadata": {},
          "execution_count": 38
        }
      ]
    },
    {
      "cell_type": "markdown",
      "source": [
        "other ways of indexing i have tried is through list. Just playing around"
      ],
      "metadata": {
        "id": "c16treujAugy"
      }
    },
    {
      "cell_type": "code",
      "source": [
        "import pandas as pd\n",
        "\n",
        "# Create a DatetimeIndex\n",
        "index = pd.DatetimeIndex(['2020-07-04', '2020-08-04',\n",
        "                          '2021-07-04', '2021-08-04'])\n",
        "\n",
        "# Create a Series with the specified index\n",
        "data = pd.Series(list(range(0, 4)), index=index)\n",
        "\n",
        "# Display the Series\n",
        "print(data)\n"
      ],
      "metadata": {
        "colab": {
          "base_uri": "https://localhost:8080/"
        },
        "id": "M7xKb3e79SPw",
        "outputId": "dd7149f6-2bde-48a4-c823-4601f71e9151"
      },
      "execution_count": 36,
      "outputs": [
        {
          "output_type": "stream",
          "name": "stdout",
          "text": [
            "2020-07-04    0\n",
            "2020-08-04    1\n",
            "2021-07-04    2\n",
            "2021-08-04    3\n",
            "dtype: int64\n"
          ]
        }
      ]
    },
    {
      "cell_type": "markdown",
      "source": [
        "And now that we have this data in a `Series`, we can make use of any of the `Series` indexing patterns, passing values that can be coerced into dates:"
      ],
      "metadata": {
        "id": "5HobpbC0BFCs"
      }
    },
    {
      "cell_type": "code",
      "source": [
        "data['2020-07-04':'2021-07-04']"
      ],
      "metadata": {
        "colab": {
          "base_uri": "https://localhost:8080/",
          "height": 178
        },
        "id": "-vknI7xEBOzh",
        "outputId": "a92cfe10-1d0b-4788-b049-bde6c3ff741f"
      },
      "execution_count": 41,
      "outputs": [
        {
          "output_type": "execute_result",
          "data": {
            "text/plain": [
              "2020-07-04    0\n",
              "2020-08-04    1\n",
              "2021-07-04    2\n",
              "dtype: int64"
            ],
            "text/html": [
              "<div>\n",
              "<style scoped>\n",
              "    .dataframe tbody tr th:only-of-type {\n",
              "        vertical-align: middle;\n",
              "    }\n",
              "\n",
              "    .dataframe tbody tr th {\n",
              "        vertical-align: top;\n",
              "    }\n",
              "\n",
              "    .dataframe thead th {\n",
              "        text-align: right;\n",
              "    }\n",
              "</style>\n",
              "<table border=\"1\" class=\"dataframe\">\n",
              "  <thead>\n",
              "    <tr style=\"text-align: right;\">\n",
              "      <th></th>\n",
              "      <th>0</th>\n",
              "    </tr>\n",
              "  </thead>\n",
              "  <tbody>\n",
              "    <tr>\n",
              "      <th>2020-07-04</th>\n",
              "      <td>0</td>\n",
              "    </tr>\n",
              "    <tr>\n",
              "      <th>2020-08-04</th>\n",
              "      <td>1</td>\n",
              "    </tr>\n",
              "    <tr>\n",
              "      <th>2021-07-04</th>\n",
              "      <td>2</td>\n",
              "    </tr>\n",
              "  </tbody>\n",
              "</table>\n",
              "</div><br><label><b>dtype:</b> int64</label>"
            ]
          },
          "metadata": {},
          "execution_count": 41
        }
      ]
    },
    {
      "cell_type": "code",
      "source": [
        "data['2021']"
      ],
      "metadata": {
        "colab": {
          "base_uri": "https://localhost:8080/",
          "height": 147
        },
        "id": "dPMFpfrgB2_X",
        "outputId": "4a68dad1-85a9-4137-83ec-f3bcbb3a34fc"
      },
      "execution_count": 43,
      "outputs": [
        {
          "output_type": "execute_result",
          "data": {
            "text/plain": [
              "2021-07-04    2\n",
              "2021-08-04    3\n",
              "dtype: int64"
            ],
            "text/html": [
              "<div>\n",
              "<style scoped>\n",
              "    .dataframe tbody tr th:only-of-type {\n",
              "        vertical-align: middle;\n",
              "    }\n",
              "\n",
              "    .dataframe tbody tr th {\n",
              "        vertical-align: top;\n",
              "    }\n",
              "\n",
              "    .dataframe thead th {\n",
              "        text-align: right;\n",
              "    }\n",
              "</style>\n",
              "<table border=\"1\" class=\"dataframe\">\n",
              "  <thead>\n",
              "    <tr style=\"text-align: right;\">\n",
              "      <th></th>\n",
              "      <th>0</th>\n",
              "    </tr>\n",
              "  </thead>\n",
              "  <tbody>\n",
              "    <tr>\n",
              "      <th>2021-07-04</th>\n",
              "      <td>2</td>\n",
              "    </tr>\n",
              "    <tr>\n",
              "      <th>2021-08-04</th>\n",
              "      <td>3</td>\n",
              "    </tr>\n",
              "  </tbody>\n",
              "</table>\n",
              "</div><br><label><b>dtype:</b> int64</label>"
            ]
          },
          "metadata": {},
          "execution_count": 43
        }
      ]
    },
    {
      "cell_type": "markdown",
      "source": [
        "# pandas time series data structures"
      ],
      "metadata": {
        "id": "tEQ23M8JCIc5"
      }
    },
    {
      "cell_type": "markdown",
      "source": [
        "This section will introduce the fundamental Pandas data structures for working with time series data:\n",
        "\n",
        "- For *timestamps*, Pandas provides the `Timestamp` type. As mentioned before, this is essentially a replacement for Python's native `datetime`, but it's based on the more efficient `numpy.datetime64` data type. The associated `Index` structure is `DatetimeIndex`.\n",
        "- For *time periods*, Pandas provides the `Period` type. This encodes a fixed-frequency interval based on `numpy.datetime64`. The associated index structure is `PeriodIndex`.\n",
        "- For *time deltas* or *durations*, Pandas provides the `Timedelta` type. `Timedelta` is a more efficient replacement for Python's native `datetime.timedelta` type, and is based on `numpy.timedelta64`. The associated index structure is `TimedeltaIndex`."
      ],
      "metadata": {
        "id": "Y7TflHABGBoq"
      }
    },
    {
      "cell_type": "markdown",
      "source": [
        "The most fundamental of these date/time objects are the `Timestamp` and `DatetimeIndex` objects.\n",
        "While these class objects can be invoked directly, it is more common to use the `pd.to_datetime` function, which can parse a wide variety of formats.\n",
        "Passing a single date to `pd.to_datetime` yields a `Timestamp`; passing a series of dates by default yields a `DatetimeIndex`, as you can see here:"
      ],
      "metadata": {
        "id": "a3hcb2zHGV_K"
      }
    },
    {
      "cell_type": "code",
      "source": [
        "dates = pd.to_datetime([datetime(2024,9,2), '4th of august, 2024','2021-Jul-6', '07-07-2021', '20210708'])\n",
        "dates"
      ],
      "metadata": {
        "colab": {
          "base_uri": "https://localhost:8080/"
        },
        "id": "L6GJFyFmCAcW",
        "outputId": "7e3de031-f3cf-4ee1-a5fc-ffc8a7ffa1a9"
      },
      "execution_count": 45,
      "outputs": [
        {
          "output_type": "execute_result",
          "data": {
            "text/plain": [
              "DatetimeIndex(['2024-09-02', '2024-08-04', '2021-07-06', '2021-07-07',\n",
              "               '2021-07-08'],\n",
              "              dtype='datetime64[ns]', freq=None)"
            ]
          },
          "metadata": {},
          "execution_count": 45
        }
      ]
    },
    {
      "cell_type": "markdown",
      "source": [
        "Any `DatetimeIndex` can be converted to a `PeriodIndex` with the `to_period` function, with the addition of a frequency code; here we'll use `'D'` to indicate daily frequency:"
      ],
      "metadata": {
        "id": "6w3PCRsDG90O"
      }
    },
    {
      "cell_type": "code",
      "source": [
        "dates.to_period('D')"
      ],
      "metadata": {
        "colab": {
          "base_uri": "https://localhost:8080/"
        },
        "id": "A-LuZDirG1Zl",
        "outputId": "c2fd8110-aad2-4868-a472-785f6a0ac16b"
      },
      "execution_count": 46,
      "outputs": [
        {
          "output_type": "execute_result",
          "data": {
            "text/plain": [
              "PeriodIndex(['2024-09-02', '2024-08-04', '2021-07-06', '2021-07-07',\n",
              "             '2021-07-08'],\n",
              "            dtype='period[D]')"
            ]
          },
          "metadata": {},
          "execution_count": 46
        }
      ]
    },
    {
      "cell_type": "code",
      "source": [
        "dates - dates[1]"
      ],
      "metadata": {
        "colab": {
          "base_uri": "https://localhost:8080/"
        },
        "id": "8UoAsBUhHGWN",
        "outputId": "c93d501e-4e7d-47da-aa69-f874ecff3954"
      },
      "execution_count": 48,
      "outputs": [
        {
          "output_type": "execute_result",
          "data": {
            "text/plain": [
              "TimedeltaIndex(['29 days', '0 days', '-1125 days', '-1124 days', '-1123 days'], dtype='timedelta64[ns]', freq=None)"
            ]
          },
          "metadata": {},
          "execution_count": 48
        }
      ]
    },
    {
      "cell_type": "markdown",
      "source": [
        "## Regular Sequences: pd.date_range"
      ],
      "metadata": {
        "id": "mNKScVJ_Hy6q"
      }
    },
    {
      "cell_type": "code",
      "source": [
        "pd.date_range('2015-07-03', '2015-07-10')"
      ],
      "metadata": {
        "colab": {
          "base_uri": "https://localhost:8080/"
        },
        "id": "_MRSA7XwHXV0",
        "outputId": "839f365f-f623-45fb-cef4-405a0d59eb37"
      },
      "execution_count": 49,
      "outputs": [
        {
          "output_type": "execute_result",
          "data": {
            "text/plain": [
              "DatetimeIndex(['2015-07-03', '2015-07-04', '2015-07-05', '2015-07-06',\n",
              "               '2015-07-07', '2015-07-08', '2015-07-09', '2015-07-10'],\n",
              "              dtype='datetime64[ns]', freq='D')"
            ]
          },
          "metadata": {},
          "execution_count": 49
        }
      ]
    },
    {
      "cell_type": "code",
      "source": [
        "pd.date_range('2024-09-02',periods=8)"
      ],
      "metadata": {
        "colab": {
          "base_uri": "https://localhost:8080/"
        },
        "id": "4c4NyD28IOdk",
        "outputId": "9ba08eaa-2422-4b2c-aa1d-a60c3764c9f2"
      },
      "execution_count": 53,
      "outputs": [
        {
          "output_type": "execute_result",
          "data": {
            "text/plain": [
              "DatetimeIndex(['2024-09-02', '2024-09-03', '2024-09-04', '2024-09-05',\n",
              "               '2024-09-06', '2024-09-07', '2024-09-08', '2024-09-09'],\n",
              "              dtype='datetime64[ns]', freq='D')"
            ]
          },
          "metadata": {},
          "execution_count": 53
        }
      ]
    },
    {
      "cell_type": "code",
      "source": [
        "pd.date_range('2024-09-02',periods = 8, freq = 'H',)"
      ],
      "metadata": {
        "colab": {
          "base_uri": "https://localhost:8080/"
        },
        "id": "kM9yyUqNIwcs",
        "outputId": "d6f61290-d090-4a2d-ab91-64f193ab4d59"
      },
      "execution_count": 54,
      "outputs": [
        {
          "output_type": "execute_result",
          "data": {
            "text/plain": [
              "DatetimeIndex(['2024-09-02 00:00:00', '2024-09-02 01:00:00',\n",
              "               '2024-09-02 02:00:00', '2024-09-02 03:00:00',\n",
              "               '2024-09-02 04:00:00', '2024-09-02 05:00:00',\n",
              "               '2024-09-02 06:00:00', '2024-09-02 07:00:00'],\n",
              "              dtype='datetime64[ns]', freq='H')"
            ]
          },
          "metadata": {},
          "execution_count": 54
        }
      ]
    },
    {
      "cell_type": "code",
      "source": [
        "pd.period_range('2024-09-02',periods=5, freq='M')"
      ],
      "metadata": {
        "colab": {
          "base_uri": "https://localhost:8080/"
        },
        "id": "T3MQloqmJQVU",
        "outputId": "1a6a918c-6c5c-4986-fbc5-1e49f342b926"
      },
      "execution_count": 55,
      "outputs": [
        {
          "output_type": "execute_result",
          "data": {
            "text/plain": [
              "PeriodIndex(['2024-09', '2024-10', '2024-11', '2024-12', '2025-01'], dtype='period[M]')"
            ]
          },
          "metadata": {},
          "execution_count": 55
        }
      ]
    },
    {
      "cell_type": "code",
      "source": [],
      "metadata": {
        "id": "qTl8QHdpK4Cs"
      },
      "execution_count": null,
      "outputs": []
    }
  ]
}